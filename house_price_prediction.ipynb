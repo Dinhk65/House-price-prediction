{
  "nbformat": 4,
  "nbformat_minor": 0,
  "metadata": {
    "colab": {
      "provenance": []
    },
    "kernelspec": {
      "name": "python3",
      "display_name": "Python 3"
    },
    "language_info": {
      "name": "python"
    }
  },
  "cells": [
    {
      "cell_type": "code",
      "source": [
        "# Huấn luyện AI (Model Training)\n",
        "import pandas as pd\n",
        "import numpy as np\n",
        "from sklearn.model_selection import train_test_split\n",
        "from sklearn.linear_model import LinearRegression\n",
        "from sklearn.ensemble import RandomForestRegressor\n",
        "from sklearn.metrics import mean_absolute_error, mean_squared_error, r2_score, mean_absolute_percentage_error\n",
        "\n",
        "# Bước 1: Tải dữ liệu\n",
        "url = \"https://raw.githubusercontent.com/ageron/handson-ml/master/datasets/housing/housing.csv\"\n",
        "data = pd.read_csv(url)\n",
        "print(\"Dữ liệu ban đầu:\")\n",
        "print(data.head())\n",
        "\n",
        "# Bước 2: Xử lý dữ liệu\n",
        "# Xóa hàng có giá trị NaN\n",
        "data.dropna(inplace=True)\n",
        "\n",
        "# Chuyển đổi cột 'ocean_proximity' sang dạng số\n",
        "data = pd.get_dummies(data, columns=['ocean_proximity'], drop_first=True)\n",
        "\n",
        "# Chia dữ liệu thành đầu vào (X) và đầu ra (y)\n",
        "X = data.drop(columns=['median_house_value'])\n",
        "y = data['median_house_value']\n",
        "\n",
        "# Chia thành tập train và test\n",
        "X_train, X_test, y_train, y_test = train_test_split(X, y, test_size=0.2, random_state=42)\n",
        "\n",
        "# Bước 3: Huấn luyện mô hình\n",
        "lr_model = LinearRegression()\n",
        "lr_model.fit(X_train, y_train)\n",
        "\n",
        "rf_model = RandomForestRegressor(n_estimators=100, random_state=42)\n",
        "rf_model.fit(X_train, y_train)\n",
        "\n",
        "# Bước 4: Đánh giá mô hình\n",
        "def evaluate_model(model, X_test, y_test):\n",
        "    y_pred = model.predict(X_test)\n",
        "\n",
        "    #Sai số trung bình tuyệt đối\n",
        "    mae = mean_absolute_error(y_test, y_pred)\n",
        "\n",
        "    # Sai số bình phương trung bình\n",
        "    mse = mean_squared_error(y_test, y_pred)\n",
        "\n",
        "    # Sai số phần trăm trung bình tuyệt đối\n",
        "    mape = np.mean(np.abs((y_test - y_pred) / y_test)) * 100\n",
        "\n",
        "   # Độ chính xác theo R2\n",
        "    r2 = r2_score(y_test, y_pred)\n",
        "\n",
        "    print(f\"{model.__class__.__name__} - MAE: {mae}, MSE: {mse}\")\n",
        "    print(f\"  - R² Score: {r2:.4f}\")\n",
        "    print(f\"  - MAPE: {mape:.2f}%\")  # Tính sai số phần trăm\n",
        "\n",
        "evaluate_model(lr_model, X_test, y_test)\n",
        "evaluate_model(rf_model, X_test, y_test)\n",
        "\n",
        "# Bước 5: Dự đoán giá nhà\n",
        "sample_house = np.array(X_test.iloc[0]).reshape(1, -1)\n",
        "predicted_price = rf_model.predict(sample_house)\n",
        "print(f\"Giá nhà dự đoán: {predicted_price[0]}\")\n",
        "\n",
        "import joblib\n",
        "\n",
        "# Lưu mô hình RandomForest đã huấn luyện\n",
        "joblib.dump(rf_model, \"house_price_model.pkl\")\n",
        "print(\"Mô hình đã được lưu!\")\n"
      ],
      "metadata": {
        "colab": {
          "base_uri": "https://localhost:8080/"
        },
        "id": "Y1tvcmi54Ktl",
        "outputId": "a4a58f47-1740-4992-a60d-eb018e463193",
        "collapsed": true
      },
      "execution_count": 3,
      "outputs": [
        {
          "output_type": "stream",
          "name": "stdout",
          "text": [
            "Dữ liệu ban đầu:\n",
            "   longitude  latitude  housing_median_age  total_rooms  total_bedrooms  \\\n",
            "0    -122.23     37.88                41.0        880.0           129.0   \n",
            "1    -122.22     37.86                21.0       7099.0          1106.0   \n",
            "2    -122.24     37.85                52.0       1467.0           190.0   \n",
            "3    -122.25     37.85                52.0       1274.0           235.0   \n",
            "4    -122.25     37.85                52.0       1627.0           280.0   \n",
            "\n",
            "   population  households  median_income  median_house_value ocean_proximity  \n",
            "0       322.0       126.0         8.3252            452600.0        NEAR BAY  \n",
            "1      2401.0      1138.0         8.3014            358500.0        NEAR BAY  \n",
            "2       496.0       177.0         7.2574            352100.0        NEAR BAY  \n",
            "3       558.0       219.0         5.6431            341300.0        NEAR BAY  \n",
            "4       565.0       259.0         3.8462            342200.0        NEAR BAY  \n",
            "LinearRegression - MAE: 50413.4333081006, MSE: 4802173538.60416\n",
            "  - R² Score: 0.6488\n",
            "  - MAPE: 28.60%\n",
            "RandomForestRegressor - MAE: 31677.918808416936, MSE: 2378317289.567475\n",
            "  - R² Score: 0.8261\n",
            "  - MAPE: 17.32%\n",
            "Giá nhà dự đoán: 217892.0\n"
          ]
        },
        {
          "output_type": "stream",
          "name": "stderr",
          "text": [
            "/usr/local/lib/python3.11/dist-packages/sklearn/utils/validation.py:2739: UserWarning: X does not have valid feature names, but RandomForestRegressor was fitted with feature names\n",
            "  warnings.warn(\n"
          ]
        },
        {
          "output_type": "stream",
          "name": "stdout",
          "text": [
            "Mô hình đã được lưu!\n"
          ]
        }
      ]
    },
    {
      "cell_type": "code",
      "source": [
        "# Viết APP Streamlit\n",
        "\n",
        "%%writefile app.py\n",
        "import streamlit as st\n",
        "import pandas as pd\n",
        "import joblib\n",
        "\n",
        "# Tải mô hình\n",
        "model = joblib.load(\"house_price_model.pkl\")\n",
        "\n",
        "# Tiêu đề ứng dụng\n",
        "st.title(\"🏡 Dự đoán giá nhà với Machine Learning\")\n",
        "\n",
        "# Tạo form nhập dữ liệu\n",
        "st.sidebar.header(\"Nhập thông tin căn nhà\")\n",
        "\n",
        "def user_input_features():\n",
        "    longitude = st.sidebar.number_input(\"Longitude\", value=-118.25)\n",
        "    latitude = st.sidebar.number_input(\"Latitude\", value=34.05)\n",
        "    housing_median_age = st.sidebar.number_input(\"Housing Median Age\", value=30)\n",
        "    total_rooms = st.sidebar.number_input(\"Total Rooms\", value=5000)\n",
        "    total_bedrooms = st.sidebar.number_input(\"Total Bedrooms\", value=1000)\n",
        "    population = st.sidebar.number_input(\"Population\", value=1500)\n",
        "    households = st.sidebar.number_input(\"Households\", value=500)\n",
        "    median_income = st.sidebar.number_input(\"Median Income\", value=3.5)\n",
        "\n",
        "    # One-hot encoding cho 'ocean_proximity'\n",
        "    ocean_proximity_inland = st.sidebar.checkbox(\"Inland\", value=False)\n",
        "    ocean_proximity_island = st.sidebar.checkbox(\"Island\", value=False)\n",
        "    ocean_proximity_near_bay = st.sidebar.checkbox(\"Near Bay\", value=False)\n",
        "    ocean_proximity_near_ocean = st.sidebar.checkbox(\"Near Ocean\", value=False)\n",
        "\n",
        "    data = {\n",
        "        \"longitude\": longitude,\n",
        "        \"latitude\": latitude,\n",
        "        \"housing_median_age\": housing_median_age,\n",
        "        \"total_rooms\": total_rooms,\n",
        "        \"total_bedrooms\": total_bedrooms,\n",
        "        \"population\": population,\n",
        "        \"households\": households,\n",
        "        \"median_income\": median_income,\n",
        "        \"ocean_proximity_INLAND\": int(ocean_proximity_inland),\n",
        "        \"ocean_proximity_ISLAND\": int(ocean_proximity_island),\n",
        "        \"ocean_proximity_NEAR BAY\": int(ocean_proximity_near_bay),\n",
        "        \"ocean_proximity_NEAR OCEAN\": int(ocean_proximity_near_ocean),\n",
        "    }\n",
        "\n",
        "    return pd.DataFrame(data, index=[0])\n",
        "\n",
        "# Lấy dữ liệu từ form\n",
        "input_df = user_input_features()\n",
        "\n",
        "# Dự đoán giá nhà\n",
        "if st.button(\"Dự đoán giá nhà 💰\"):\n",
        "    prediction = model.predict(input_df)\n",
        "    st.subheader(f\"📢 Giá nhà dự đoán: ${prediction[0]:,.2f}\")\n"
      ],
      "metadata": {
        "colab": {
          "base_uri": "https://localhost:8080/"
        },
        "id": "-uncPc4yIrDq",
        "outputId": "5793669f-db42-4a49-c2e4-7b0b6a2aea5a"
      },
      "execution_count": null,
      "outputs": [
        {
          "output_type": "stream",
          "name": "stdout",
          "text": [
            "Overwriting app.py\n"
          ]
        }
      ]
    },
    {
      "cell_type": "code",
      "source": [
        "# Cần đăng nhập trên ngrok để lấy autoken! (Need to login on ngrok to get autoken!)\n",
        "# Đây là autoken của tôi, bạn cần tự lấy autoken thay vào! (This is my autoken, you have to auto get autoken!)\n",
        "\n",
        "!ngrok authtoken \"2u7Ish5dUhqNabY4jlN7DkJyd01_3ZusTZZGnFgCKNx1UYgV\""
      ],
      "metadata": {
        "colab": {
          "base_uri": "https://localhost:8080/"
        },
        "collapsed": true,
        "id": "jy_OY25yy2sz",
        "outputId": "faf33138-15a7-4614-cdab-d32f4b0f48dc"
      },
      "execution_count": 1,
      "outputs": [
        {
          "output_type": "stream",
          "name": "stdout",
          "text": [
            "/bin/bash: line 1: ngrok: command not found\n"
          ]
        }
      ]
    },
    {
      "cell_type": "code",
      "source": [
        "# Chạy app (Run App)\n",
        "from pyngrok import ngrok\n",
        "public_url = ngrok.connect(8501, \"http\")  # Xóa tham số \"port=\"\n",
        "print(f\"Truy cập Streamlit tại: {public_url}\")\n",
        "\n",
        "!streamlit run app.py\n"
      ],
      "metadata": {
        "colab": {
          "base_uri": "https://localhost:8080/"
        },
        "id": "KYHMalYYBjwL",
        "outputId": "61366600-ce96-487f-c5ee-0c691446e003",
        "collapsed": true
      },
      "execution_count": null,
      "outputs": [
        {
          "output_type": "stream",
          "name": "stdout",
          "text": [
            "Truy cập Streamlit tại: NgrokTunnel: \"https://f3d5-34-73-170-62.ngrok-free.app\" -> \"http://localhost:8501\"\n",
            "\n",
            "Collecting usage statistics. To deactivate, set browser.gatherUsageStats to false.\n",
            "\u001b[0m\n",
            "\u001b[0m\n",
            "\u001b[34m\u001b[1m  You can now view your Streamlit app in your browser.\u001b[0m\n",
            "\u001b[0m\n",
            "\u001b[34m  Local URL: \u001b[0m\u001b[1mhttp://localhost:8501\u001b[0m\n",
            "\u001b[34m  Network URL: \u001b[0m\u001b[1mhttp://172.28.0.12:8501\u001b[0m\n",
            "\u001b[34m  External URL: \u001b[0m\u001b[1mhttp://34.73.170.62:8501\u001b[0m\n",
            "\u001b[0m\n"
          ]
        },
        {
          "output_type": "stream",
          "name": "stderr",
          "text": [
            "WARNING:pyngrok.process.ngrok:t=2025-03-10T08:16:05+0000 lvl=warn msg=\"failed to check for update\" obj=updater err=\"Post \\\"https://update.equinox.io/check\\\": context deadline exceeded\"\n"
          ]
        },
        {
          "output_type": "stream",
          "name": "stdout",
          "text": [
            "\u001b[34m  Stopping...\u001b[0m\n",
            "\u001b[34m  Stopping...\u001b[0m\n",
            "Traceback (most recent call last):\n",
            "  File \"/usr/local/bin/streamlit\", line 8, in <module>\n",
            "    sys.exit(main())\n",
            "             ^^^^^^\n",
            "  File \"/usr/local/lib/python3.11/dist-packages/click/core.py\", line 1161, in __call__\n",
            "    return self.main(*args, **kwargs)\n",
            "           ^^^^^^^^^^^^^^^^^^^^^^^^^^\n",
            "  File \"/usr/local/lib/python3.11/dist-packages/click/core.py\", line 1092, in main\n",
            "    ctx.exit()\n",
            "  File \"/usr/local/lib/python3.11/dist-packages/click/core.py\", line 697, in exit\n",
            "    def exit(self, code: int = 0) -> \"te.NoReturn\":\n",
            "\n",
            "  File \"/usr/local/lib/python3.11/dist-packages/streamlit/web/bootstrap.py\", line 44, in signal_handler\n",
            "    server.stop()\n",
            "  File \"/usr/local/lib/python3.11/dist-packages/streamlit/web/server/server.py\", line 470, in stop\n",
            "    self._runtime.stop()\n",
            "  File \"/usr/local/lib/python3.11/dist-packages/streamlit/runtime/runtime.py\", line 337, in stop\n",
            "    async_objs.eventloop.call_soon_threadsafe(stop_on_eventloop)\n",
            "  File \"/usr/lib/python3.11/asyncio/base_events.py\", line 807, in call_soon_threadsafe\n",
            "    self._check_closed()\n",
            "  File \"/usr/lib/python3.11/asyncio/base_events.py\", line 520, in _check_closed\n",
            "    raise RuntimeError('Event loop is closed')\n",
            "RuntimeError: Event loop is closed\n"
          ]
        }
      ]
    }
  ]
}